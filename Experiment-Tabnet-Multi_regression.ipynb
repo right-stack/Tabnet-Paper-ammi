{
  "nbformat": 4,
  "nbformat_minor": 0,
  "metadata": {
    "kernelspec": {
      "display_name": "Python 3",
      "language": "python",
      "name": "python3"
    },
    "language_info": {
      "codemirror_mode": {
        "name": "ipython",
        "version": 3
      },
      "file_extension": ".py",
      "mimetype": "text/x-python",
      "name": "python",
      "nbconvert_exporter": "python",
      "pygments_lexer": "ipython3",
      "version": "3.7.6"
    },
    "toc": {
      "base_numbering": 1,
      "nav_menu": {},
      "number_sections": true,
      "sideBar": true,
      "skip_h1_title": false,
      "title_cell": "Table of Contents",
      "title_sidebar": "Contents",
      "toc_cell": false,
      "toc_position": {},
      "toc_section_display": true,
      "toc_window_display": false
    },
    "colab": {
      "name": "multi_regression_example.ipynb",
      "provenance": []
    }
  },
  "cells": [
    {
      "cell_type": "code",
      "metadata": {
        "colab": {
          "base_uri": "https://localhost:8080/"
        },
        "id": "tDkz-mKRXiM_",
        "outputId": "39488f7d-e72f-4259-eb08-dbb41588eec8"
      },
      "source": [
        "pip install pytorch_tabnet"
      ],
      "execution_count": 9,
      "outputs": [
        {
          "output_type": "stream",
          "text": [
            "Requirement already satisfied: pytorch_tabnet in /usr/local/lib/python3.7/dist-packages (3.1.1)\n",
            "Requirement already satisfied: tqdm<5.0,>=4.36 in /usr/local/lib/python3.7/dist-packages (from pytorch_tabnet) (4.62.0)\n",
            "Requirement already satisfied: scipy>1.4 in /usr/local/lib/python3.7/dist-packages (from pytorch_tabnet) (1.4.1)\n",
            "Requirement already satisfied: torch<2.0,>=1.2 in /usr/local/lib/python3.7/dist-packages (from pytorch_tabnet) (1.9.0+cu102)\n",
            "Requirement already satisfied: scikit_learn>0.21 in /usr/local/lib/python3.7/dist-packages (from pytorch_tabnet) (0.22.2.post1)\n",
            "Requirement already satisfied: numpy<2.0,>=1.17 in /usr/local/lib/python3.7/dist-packages (from pytorch_tabnet) (1.19.5)\n",
            "Requirement already satisfied: joblib>=0.11 in /usr/local/lib/python3.7/dist-packages (from scikit_learn>0.21->pytorch_tabnet) (1.0.1)\n",
            "Requirement already satisfied: typing-extensions in /usr/local/lib/python3.7/dist-packages (from torch<2.0,>=1.2->pytorch_tabnet) (3.7.4.3)\n"
          ],
          "name": "stdout"
        }
      ]
    },
    {
      "cell_type": "code",
      "metadata": {
        "colab": {
          "base_uri": "https://localhost:8080/"
        },
        "id": "lmfA2e4UYK9v",
        "outputId": "f7762778-e623-44bf-bace-cb02aba3a6b8"
      },
      "source": [
        "%pip install wget"
      ],
      "execution_count": 11,
      "outputs": [
        {
          "output_type": "stream",
          "text": [
            "Collecting wget\n",
            "  Downloading wget-3.2.zip (10 kB)\n",
            "Building wheels for collected packages: wget\n",
            "  Building wheel for wget (setup.py) ... \u001b[?25l\u001b[?25hdone\n",
            "  Created wheel for wget: filename=wget-3.2-py3-none-any.whl size=9672 sha256=d9bf47ee6f2eac7eda778956b398e3f029bf4f17f48c32625d491a50bd659a98\n",
            "  Stored in directory: /root/.cache/pip/wheels/a1/b6/7c/0e63e34eb06634181c63adacca38b79ff8f35c37e3c13e3c02\n",
            "Successfully built wget\n",
            "Installing collected packages: wget\n",
            "Successfully installed wget-3.2\n"
          ],
          "name": "stdout"
        }
      ]
    },
    {
      "cell_type": "code",
      "metadata": {
        "colab": {
          "base_uri": "https://localhost:8080/"
        },
        "id": "y89Ng0lHXbJr",
        "outputId": "598acd2b-ffa1-4132-e6c9-1e403366cf31"
      },
      "source": [
        "from pytorch_tabnet.tab_model import TabNetRegressor\n",
        "\n",
        "import torch\n",
        "from sklearn.preprocessing import LabelEncoder\n",
        "from sklearn.metrics import mean_squared_error\n",
        "\n",
        "import pandas as pd\n",
        "import numpy as np\n",
        "np.random.seed(0)\n",
        "\n",
        "\n",
        "import os\n",
        "from pathlib import Path\n",
        "\n",
        "\n",
        "%load_ext autoreload\n",
        "\n",
        "%autoreload 2"
      ],
      "execution_count": 12,
      "outputs": [
        {
          "output_type": "stream",
          "text": [
            "The autoreload extension is already loaded. To reload it, use:\n",
            "  %reload_ext autoreload\n"
          ],
          "name": "stdout"
        }
      ]
    },
    {
      "cell_type": "markdown",
      "metadata": {
        "id": "njm9xXTgXbJu"
      },
      "source": [
        "# Download census-income dataset"
      ]
    },
    {
      "cell_type": "code",
      "metadata": {
        "id": "4n6FGl_iXbJu"
      },
      "source": [
        "url = \"https://archive.ics.uci.edu/ml/machine-learning-databases/adult/adult.data\"\n",
        "dataset_name = 'census-income'"
      ],
      "execution_count": 25,
      "outputs": []
    },
    {
      "cell_type": "markdown",
      "metadata": {
        "id": "9DDnD7RbXbJv"
      },
      "source": [
        "# Load data and split"
      ]
    },
    {
      "cell_type": "code",
      "metadata": {
        "id": "L6gwsr7tXbJw"
      },
      "source": [
        "train = pd.read_csv(\"adult.data\")\n",
        "target = ' <=50K'\n",
        "if \"Set\" not in train.columns:\n",
        "    train[\"Set\"] = np.random.choice([\"train\", \"valid\", \"test\"], p =[.8, .1, .1], size=(train.shape[0],))\n",
        "\n",
        "train_indices = train[train.Set==\"train\"].index\n",
        "valid_indices = train[train.Set==\"valid\"].index\n",
        "test_indices = train[train.Set==\"test\"].index"
      ],
      "execution_count": 24,
      "outputs": []
    },
    {
      "cell_type": "markdown",
      "metadata": {
        "id": "luJHH2ESXbJw"
      },
      "source": [
        "# Simple preprocessing\n",
        "\n",
        "Label encode categorical features and fill empty cells."
      ]
    },
    {
      "cell_type": "code",
      "metadata": {
        "colab": {
          "base_uri": "https://localhost:8080/"
        },
        "id": "qw2I93PCXbJx",
        "outputId": "5ed0d5dc-12e8-4082-b4fa-114d456bda52"
      },
      "source": [
        "categorical_columns = []\n",
        "categorical_dims =  {}\n",
        "for col in train.columns[train.dtypes == object]:\n",
        "    print(col, train[col].nunique())\n",
        "    l_enc = LabelEncoder()\n",
        "    train[col] = train[col].fillna(\"VV_likely\")\n",
        "    train[col] = l_enc.fit_transform(train[col].values)\n",
        "    categorical_columns.append(col)\n",
        "    categorical_dims[col] = len(l_enc.classes_)\n",
        "\n",
        "for col in train.columns[train.dtypes == 'float64']:\n",
        "    train.fillna(train.loc[train_indices, col].mean(), inplace=True)"
      ],
      "execution_count": 26,
      "outputs": [
        {
          "output_type": "stream",
          "text": [
            " State-gov 9\n",
            " Bachelors 16\n",
            " Never-married 7\n",
            " Adm-clerical 15\n",
            " Not-in-family 6\n",
            " White 5\n",
            " Male 2\n",
            " United-States 42\n",
            " <=50K 2\n",
            "Set 3\n"
          ],
          "name": "stdout"
        }
      ]
    },
    {
      "cell_type": "markdown",
      "metadata": {
        "id": "0Bwc1LjVXbJy"
      },
      "source": [
        "# Define categorical features for categorical embeddings"
      ]
    },
    {
      "cell_type": "code",
      "metadata": {
        "id": "sIQReLUCXbJz"
      },
      "source": [
        "unused_feat = ['Set']\n",
        "\n",
        "features = [ col for col in train.columns if col not in unused_feat+[target]] \n",
        "\n",
        "cat_idxs = [ i for i, f in enumerate(features) if f in categorical_columns]\n",
        "\n",
        "cat_dims = [ categorical_dims[f] for i, f in enumerate(features) if f in categorical_columns]\n",
        "\n",
        "# define your embedding sizes : here just a random choice\n",
        "cat_emb_dim = [5, 4, 3, 6, 2, 2, 1, 10]"
      ],
      "execution_count": 27,
      "outputs": []
    },
    {
      "cell_type": "markdown",
      "metadata": {
        "id": "LPmp4kgAXbJz"
      },
      "source": [
        "# Network parameters"
      ]
    },
    {
      "cell_type": "code",
      "metadata": {
        "colab": {
          "base_uri": "https://localhost:8080/"
        },
        "id": "OoaxZsAbXbJ0",
        "outputId": "fce523df-423a-4870-dec8-4bab165e6c3c"
      },
      "source": [
        "clf = TabNetRegressor(cat_dims=cat_dims, cat_emb_dim=cat_emb_dim, cat_idxs=cat_idxs)"
      ],
      "execution_count": 28,
      "outputs": [
        {
          "output_type": "stream",
          "text": [
            "Device used : cpu\n"
          ],
          "name": "stdout"
        }
      ]
    },
    {
      "cell_type": "markdown",
      "metadata": {
        "id": "7iMVVxSCXbJ0"
      },
      "source": [
        "# Training"
      ]
    },
    {
      "cell_type": "markdown",
      "metadata": {
        "id": "8d_utyDKXbJ0"
      },
      "source": [
        "### We will simulate 5 targets here to perform multi regression without changing anything!"
      ]
    },
    {
      "cell_type": "code",
      "metadata": {
        "id": "FEWjzK-AXbJ1"
      },
      "source": [
        "n_targets = 8\n",
        "\n",
        "X_train = train[features].values[train_indices]\n",
        "y_train = train[target].values[train_indices]\n",
        "y_train = np.transpose(np.tile(y_train, (n_targets,1)))\n",
        "\n",
        "X_valid = train[features].values[valid_indices]\n",
        "y_valid = train[target].values[valid_indices]\n",
        "y_valid = np.transpose(np.tile(y_valid, (n_targets,1)))\n",
        "\n",
        "X_test = train[features].values[test_indices]\n",
        "y_test = train[target].values[test_indices]\n",
        "y_test = np.transpose(np.tile(y_test, (n_targets,1)))"
      ],
      "execution_count": 29,
      "outputs": []
    },
    {
      "cell_type": "code",
      "metadata": {
        "id": "TEOfmoZ5XbJ1"
      },
      "source": [
        "max_epochs = 1000 if not os.getenv(\"CI\", False) else 2"
      ],
      "execution_count": 30,
      "outputs": []
    },
    {
      "cell_type": "code",
      "metadata": {
        "scrolled": false,
        "colab": {
          "base_uri": "https://localhost:8080/"
        },
        "id": "FiISfF4bXbJ1",
        "outputId": "635ea7f5-f32e-4e8e-fad5-be7ab709bd2b"
      },
      "source": [
        "clf.fit(\n",
        "    X_train=X_train, y_train=y_train,\n",
        "    eval_set=[(X_train, y_train), (X_valid, y_valid)],\n",
        "    eval_name=['train', 'valid'],\n",
        "    eval_metric=['rmsle', 'mae', 'rmse', 'mse'],\n",
        "    max_epochs=max_epochs,\n",
        "    patience=50,\n",
        "    batch_size=1024, virtual_batch_size=128,\n",
        "    num_workers=0,\n",
        "    drop_last=False\n",
        ") "
      ],
      "execution_count": null,
      "outputs": [
        {
          "output_type": "stream",
          "text": [
            "epoch 0  | loss: 0.36132 | train_rmsle: 0.18928 | train_mae: 0.51788 | train_rmse: 0.81987 | train_mse: 0.67218 | valid_rmsle: 0.1823  | valid_mae: 0.5037  | valid_rmse: 0.76823 | valid_mse: 0.59018 |  0:00:03s\n",
            "epoch 1  | loss: 0.15443 | train_rmsle: 0.12137 | train_mae: 0.41043 | train_rmse: 0.48728 | train_mse: 0.23745 | valid_rmsle: 0.12072 | valid_mae: 0.40812 | valid_rmse: 0.48569 | valid_mse: 0.2359  |  0:00:06s\n",
            "epoch 2  | loss: 0.13819 | train_rmsle: 0.11697 | train_mae: 0.37251 | train_rmse: 0.47608 | train_mse: 0.22666 | valid_rmsle: 0.11448 | valid_mae: 0.36529 | valid_rmse: 0.47245 | valid_mse: 0.22321 |  0:00:09s\n",
            "epoch 3  | loss: 0.13138 | train_rmsle: 0.09406 | train_mae: 0.33535 | train_rmse: 0.42198 | train_mse: 0.17806 | valid_rmsle: 0.09284 | valid_mae: 0.32991 | valid_rmse: 0.42048 | valid_mse: 0.1768  |  0:00:12s\n",
            "epoch 4  | loss: 0.12864 | train_rmsle: 0.08511 | train_mae: 0.3031  | train_rmse: 0.39631 | train_mse: 0.15706 | valid_rmsle: 0.08115 | valid_mae: 0.29351 | valid_rmse: 0.38431 | valid_mse: 0.14769 |  0:00:15s\n",
            "epoch 5  | loss: 0.12436 | train_rmsle: 0.07969 | train_mae: 0.28062 | train_rmse: 0.38364 | train_mse: 0.14718 | valid_rmsle: 0.07597 | valid_mae: 0.27246 | valid_rmse: 0.37319 | valid_mse: 0.13927 |  0:00:19s\n",
            "epoch 6  | loss: 0.12017 | train_rmsle: 0.07294 | train_mae: 0.26244 | train_rmse: 0.36877 | train_mse: 0.13599 | valid_rmsle: 0.07031 | valid_mae: 0.25482 | valid_rmse: 0.36116 | valid_mse: 0.13043 |  0:00:22s\n",
            "epoch 7  | loss: 0.11757 | train_rmsle: 0.06251 | train_mae: 0.25018 | train_rmse: 0.34614 | train_mse: 0.11981 | valid_rmsle: 0.0608  | valid_mae: 0.24642 | valid_rmse: 0.3411  | valid_mse: 0.11635 |  0:00:25s\n",
            "epoch 8  | loss: 0.11472 | train_rmsle: 0.06096 | train_mae: 0.23864 | train_rmse: 0.34185 | train_mse: 0.11686 | valid_rmsle: 0.05933 | valid_mae: 0.23479 | valid_rmse: 0.33626 | valid_mse: 0.11307 |  0:00:28s\n",
            "epoch 9  | loss: 0.11315 | train_rmsle: 0.06086 | train_mae: 0.23602 | train_rmse: 0.34121 | train_mse: 0.11643 | valid_rmsle: 0.05887 | valid_mae: 0.23055 | valid_rmse: 0.33487 | valid_mse: 0.11214 |  0:00:31s\n",
            "epoch 10 | loss: 0.11214 | train_rmsle: 0.05658 | train_mae: 0.22973 | train_rmse: 0.33321 | train_mse: 0.11103 | valid_rmsle: 0.05473 | valid_mae: 0.22453 | valid_rmse: 0.32732 | valid_mse: 0.10714 |  0:00:34s\n",
            "epoch 11 | loss: 0.1095  | train_rmsle: 0.05498 | train_mae: 0.22705 | train_rmse: 0.3299  | train_mse: 0.10883 | valid_rmsle: 0.05325 | valid_mae: 0.22231 | valid_rmse: 0.3244  | valid_mse: 0.10524 |  0:00:38s\n",
            "epoch 12 | loss: 0.10921 | train_rmsle: 0.05561 | train_mae: 0.21794 | train_rmse: 0.32972 | train_mse: 0.10871 | valid_rmsle: 0.05425 | valid_mae: 0.21324 | valid_rmse: 0.32494 | valid_mse: 0.10558 |  0:00:41s\n",
            "epoch 13 | loss: 0.10787 | train_rmsle: 0.05346 | train_mae: 0.22005 | train_rmse: 0.32603 | train_mse: 0.10629 | valid_rmsle: 0.05195 | valid_mae: 0.21578 | valid_rmse: 0.32138 | valid_mse: 0.10328 |  0:00:44s\n",
            "epoch 14 | loss: 0.10689 | train_rmsle: 0.05213 | train_mae: 0.21652 | train_rmse: 0.32398 | train_mse: 0.10496 | valid_rmsle: 0.05096 | valid_mae: 0.21349 | valid_rmse: 0.31998 | valid_mse: 0.10239 |  0:00:47s\n",
            "epoch 15 | loss: 0.10671 | train_rmsle: 0.0504  | train_mae: 0.2078  | train_rmse: 0.32194 | train_mse: 0.10364 | valid_rmsle: 0.04944 | valid_mae: 0.2052  | valid_rmse: 0.31869 | valid_mse: 0.10156 |  0:00:50s\n",
            "epoch 16 | loss: 0.10797 | train_rmsle: 0.0512  | train_mae: 0.2132  | train_rmse: 0.32339 | train_mse: 0.10458 | valid_rmsle: 0.051   | valid_mae: 0.21123 | valid_rmse: 0.3224  | valid_mse: 0.10394 |  0:00:53s\n",
            "epoch 17 | loss: 0.10599 | train_rmsle: 0.05083 | train_mae: 0.21125 | train_rmse: 0.32576 | train_mse: 0.10612 | valid_rmsle: 0.04998 | valid_mae: 0.20715 | valid_rmse: 0.32212 | valid_mse: 0.10376 |  0:00:56s\n",
            "epoch 18 | loss: 0.10566 | train_rmsle: 0.05058 | train_mae: 0.20854 | train_rmse: 0.32175 | train_mse: 0.10352 | valid_rmsle: 0.05003 | valid_mae: 0.2054  | valid_rmse: 0.31931 | valid_mse: 0.10196 |  0:00:59s\n",
            "epoch 19 | loss: 0.10525 | train_rmsle: 0.05196 | train_mae: 0.21632 | train_rmse: 0.34297 | train_mse: 0.11763 | valid_rmsle: 0.05086 | valid_mae: 0.21248 | valid_rmse: 0.3407  | valid_mse: 0.11608 |  0:01:03s\n",
            "epoch 20 | loss: 0.10852 | train_rmsle: 0.05317 | train_mae: 0.2224  | train_rmse: 0.33187 | train_mse: 0.11014 | valid_rmsle: 0.05193 | valid_mae: 0.2185  | valid_rmse: 0.32799 | valid_mse: 0.10758 |  0:01:06s\n",
            "epoch 21 | loss: 0.10737 | train_rmsle: 0.05183 | train_mae: 0.21088 | train_rmse: 0.3236  | train_mse: 0.10472 | valid_rmsle: 0.05004 | valid_mae: 0.20538 | valid_rmse: 0.31706 | valid_mse: 0.10053 |  0:01:09s\n",
            "epoch 22 | loss: 0.10543 | train_rmsle: 0.05132 | train_mae: 0.21416 | train_rmse: 0.32356 | train_mse: 0.10469 | valid_rmsle: 0.0501  | valid_mae: 0.20941 | valid_rmse: 0.31841 | valid_mse: 0.10138 |  0:01:12s\n",
            "epoch 23 | loss: 0.10492 | train_rmsle: 0.04934 | train_mae: 0.2081  | train_rmse: 0.32076 | train_mse: 0.10289 | valid_rmsle: 0.04813 | valid_mae: 0.20456 | valid_rmse: 0.31589 | valid_mse: 0.09979 |  0:01:15s\n",
            "epoch 24 | loss: 0.10435 | train_rmsle: 0.05063 | train_mae: 0.21048 | train_rmse: 0.31969 | train_mse: 0.1022  | valid_rmsle: 0.04923 | valid_mae: 0.20583 | valid_rmse: 0.31419 | valid_mse: 0.09871 |  0:01:18s\n",
            "epoch 25 | loss: 0.10417 | train_rmsle: 0.04908 | train_mae: 0.20798 | train_rmse: 0.31828 | train_mse: 0.1013  | valid_rmsle: 0.04782 | valid_mae: 0.20439 | valid_rmse: 0.31327 | valid_mse: 0.09814 |  0:01:21s\n",
            "epoch 26 | loss: 0.10326 | train_rmsle: 0.04921 | train_mae: 0.209   | train_rmse: 0.31728 | train_mse: 0.10067 | valid_rmsle: 0.04818 | valid_mae: 0.20563 | valid_rmse: 0.31289 | valid_mse: 0.0979  |  0:01:24s\n",
            "epoch 27 | loss: 0.10346 | train_rmsle: 0.05045 | train_mae: 0.2055  | train_rmse: 0.31835 | train_mse: 0.10135 | valid_rmsle: 0.04928 | valid_mae: 0.201   | valid_rmse: 0.31349 | valid_mse: 0.09828 |  0:01:28s\n",
            "epoch 28 | loss: 0.10435 | train_rmsle: 0.04915 | train_mae: 0.20755 | train_rmse: 0.31776 | train_mse: 0.10097 | valid_rmsle: 0.0481  | valid_mae: 0.20414 | valid_rmse: 0.31336 | valid_mse: 0.0982  |  0:01:31s\n",
            "epoch 29 | loss: 0.10261 | train_rmsle: 0.04995 | train_mae: 0.20793 | train_rmse: 0.31802 | train_mse: 0.10114 | valid_rmsle: 0.04901 | valid_mae: 0.20464 | valid_rmse: 0.31358 | valid_mse: 0.09833 |  0:01:34s\n",
            "epoch 30 | loss: 0.10325 | train_rmsle: 0.05017 | train_mae: 0.21108 | train_rmse: 0.31873 | train_mse: 0.10159 | valid_rmsle: 0.04902 | valid_mae: 0.2072  | valid_rmse: 0.31251 | valid_mse: 0.09767 |  0:01:37s\n",
            "epoch 31 | loss: 0.10248 | train_rmsle: 0.05328 | train_mae: 0.2077  | train_rmse: 0.32196 | train_mse: 0.10366 | valid_rmsle: 0.05276 | valid_mae: 0.20455 | valid_rmse: 0.31893 | valid_mse: 0.10171 |  0:01:40s\n",
            "epoch 32 | loss: 0.10332 | train_rmsle: 0.04873 | train_mae: 0.20362 | train_rmse: 0.31513 | train_mse: 0.09931 | valid_rmsle: 0.04824 | valid_mae: 0.20163 | valid_rmse: 0.31232 | valid_mse: 0.09754 |  0:01:43s\n",
            "epoch 33 | loss: 0.10148 | train_rmsle: 0.04842 | train_mae: 0.20495 | train_rmse: 0.31464 | train_mse: 0.099   | valid_rmsle: 0.0478  | valid_mae: 0.20302 | valid_rmse: 0.31157 | valid_mse: 0.09707 |  0:01:46s\n",
            "epoch 34 | loss: 0.10096 | train_rmsle: 0.04784 | train_mae: 0.20584 | train_rmse: 0.31622 | train_mse: 0.1     | valid_rmsle: 0.04749 | valid_mae: 0.20432 | valid_rmse: 0.31438 | valid_mse: 0.09884 |  0:01:49s\n",
            "epoch 35 | loss: 0.10131 | train_rmsle: 0.04806 | train_mae: 0.20906 | train_rmse: 0.31889 | train_mse: 0.10169 | valid_rmsle: 0.04773 | valid_mae: 0.20747 | valid_rmse: 0.31687 | valid_mse: 0.10041 |  0:01:53s\n",
            "epoch 36 | loss: 0.10116 | train_rmsle: 0.04746 | train_mae: 0.20505 | train_rmse: 0.31626 | train_mse: 0.10002 | valid_rmsle: 0.04687 | valid_mae: 0.20382 | valid_rmse: 0.31356 | valid_mse: 0.09832 |  0:01:56s\n",
            "epoch 37 | loss: 0.10046 | train_rmsle: 0.04907 | train_mae: 0.20365 | train_rmse: 0.31478 | train_mse: 0.09909 | valid_rmsle: 0.04811 | valid_mae: 0.20079 | valid_rmse: 0.31047 | valid_mse: 0.09639 |  0:01:59s\n",
            "epoch 38 | loss: 0.10381 | train_rmsle: 0.04889 | train_mae: 0.20442 | train_rmse: 0.31869 | train_mse: 0.10156 | valid_rmsle: 0.0472  | valid_mae: 0.20022 | valid_rmse: 0.31231 | valid_mse: 0.09754 |  0:02:02s\n",
            "epoch 39 | loss: 0.10479 | train_rmsle: 0.04888 | train_mae: 0.2139  | train_rmse: 0.31773 | train_mse: 0.10095 | valid_rmsle: 0.04761 | valid_mae: 0.21005 | valid_rmse: 0.31281 | valid_mse: 0.09785 |  0:02:05s\n",
            "epoch 40 | loss: 0.10235 | train_rmsle: 0.04851 | train_mae: 0.20489 | train_rmse: 0.31565 | train_mse: 0.09964 | valid_rmsle: 0.04763 | valid_mae: 0.20157 | valid_rmse: 0.31176 | valid_mse: 0.0972  |  0:02:08s\n",
            "epoch 41 | loss: 0.10195 | train_rmsle: 0.04858 | train_mae: 0.20536 | train_rmse: 0.31442 | train_mse: 0.09886 | valid_rmsle: 0.04761 | valid_mae: 0.20122 | valid_rmse: 0.31053 | valid_mse: 0.09643 |  0:02:11s\n",
            "epoch 42 | loss: 0.10113 | train_rmsle: 0.04772 | train_mae: 0.20157 | train_rmse: 0.31488 | train_mse: 0.09915 | valid_rmsle: 0.04695 | valid_mae: 0.19826 | valid_rmse: 0.31132 | valid_mse: 0.09692 |  0:02:14s\n",
            "epoch 43 | loss: 0.10169 | train_rmsle: 0.04828 | train_mae: 0.2045  | train_rmse: 0.31527 | train_mse: 0.0994  | valid_rmsle: 0.04769 | valid_mae: 0.20166 | valid_rmse: 0.3124  | valid_mse: 0.0976  |  0:02:17s\n",
            "epoch 44 | loss: 0.10054 | train_rmsle: 0.04755 | train_mae: 0.20508 | train_rmse: 0.31645 | train_mse: 0.10014 | valid_rmsle: 0.04733 | valid_mae: 0.20331 | valid_rmse: 0.31502 | valid_mse: 0.09924 |  0:02:21s\n",
            "epoch 45 | loss: 0.10074 | train_rmsle: 0.04875 | train_mae: 0.19984 | train_rmse: 0.3135  | train_mse: 0.09828 | valid_rmsle: 0.04822 | valid_mae: 0.19659 | valid_rmse: 0.31115 | valid_mse: 0.09682 |  0:02:24s\n",
            "epoch 46 | loss: 0.10139 | train_rmsle: 0.04779 | train_mae: 0.19892 | train_rmse: 0.31309 | train_mse: 0.09802 | valid_rmsle: 0.04771 | valid_mae: 0.19764 | valid_rmse: 0.31182 | valid_mse: 0.09723 |  0:02:27s\n",
            "epoch 47 | loss: 0.09961 | train_rmsle: 0.04757 | train_mae: 0.19614 | train_rmse: 0.31188 | train_mse: 0.09727 | valid_rmsle: 0.04728 | valid_mae: 0.19353 | valid_rmse: 0.30986 | valid_mse: 0.09601 |  0:02:30s\n",
            "epoch 48 | loss: 0.09954 | train_rmsle: 0.04744 | train_mae: 0.19707 | train_rmse: 0.31296 | train_mse: 0.09794 | valid_rmsle: 0.04715 | valid_mae: 0.19464 | valid_rmse: 0.31097 | valid_mse: 0.0967  |  0:02:33s\n",
            "epoch 49 | loss: 0.09975 | train_rmsle: 0.04801 | train_mae: 0.19904 | train_rmse: 0.31272 | train_mse: 0.09779 | valid_rmsle: 0.04772 | valid_mae: 0.19705 | valid_rmse: 0.31052 | valid_mse: 0.09642 |  0:02:36s\n",
            "epoch 50 | loss: 0.10056 | train_rmsle: 0.04923 | train_mae: 0.1975  | train_rmse: 0.31332 | train_mse: 0.09817 | valid_rmsle: 0.0489  | valid_mae: 0.19532 | valid_rmse: 0.31097 | valid_mse: 0.0967  |  0:02:40s\n",
            "epoch 51 | loss: 0.10092 | train_rmsle: 0.04704 | train_mae: 0.19526 | train_rmse: 0.31163 | train_mse: 0.09711 | valid_rmsle: 0.04713 | valid_mae: 0.19492 | valid_rmse: 0.31063 | valid_mse: 0.09649 |  0:02:43s\n"
          ],
          "name": "stdout"
        }
      ]
    },
    {
      "cell_type": "code",
      "metadata": {
        "id": "WHrE-QQoXbJ1"
      },
      "source": [
        "preds = clf.predict(X_test)\n",
        "\n",
        "test_mse = mean_squared_error(y_pred=preds, y_true=y_test)\n",
        "\n",
        "print(f\"BEST VALID SCORE FOR {dataset_name} : {clf.best_cost}\")\n",
        "print(f\"FINAL TEST SCORE FOR {dataset_name} : {test_mse}\")"
      ],
      "execution_count": null,
      "outputs": []
    },
    {
      "cell_type": "markdown",
      "metadata": {
        "id": "XYF3rcthXbJ2"
      },
      "source": [
        "# Global explainability : feat importance summing to 1"
      ]
    },
    {
      "cell_type": "code",
      "metadata": {
        "colab": {
          "base_uri": "https://localhost:8080/"
        },
        "id": "NtsD7BiRXbJ2",
        "outputId": "b4b0f8bd-2cea-45b1-e60e-8c37804d5841"
      },
      "source": [
        "clf.feature_importances_"
      ],
      "execution_count": 33,
      "outputs": [
        {
          "output_type": "execute_result",
          "data": {
            "text/plain": [
              "array([1.31261891e-01, 1.36904305e-02, 3.39736011e-02, 7.67583031e-05,\n",
              "       2.05220567e-01, 4.03255263e-01, 1.08939820e-02, 7.79832314e-03,\n",
              "       1.87247911e-06, 0.00000000e+00, 1.63155536e-01, 4.20869261e-03,\n",
              "       1.86473213e-02, 7.81576002e-03])"
            ]
          },
          "metadata": {},
          "execution_count": 33
        }
      ]
    },
    {
      "cell_type": "markdown",
      "metadata": {
        "id": "gjvc-cU5XbJ2"
      },
      "source": [
        "# Local explainability and masks"
      ]
    },
    {
      "cell_type": "code",
      "metadata": {
        "id": "U_n5JiMmXbJ2"
      },
      "source": [
        "explain_matrix, masks = clf.explain(X_test)"
      ],
      "execution_count": 34,
      "outputs": []
    },
    {
      "cell_type": "code",
      "metadata": {
        "id": "J70LBZj0XbJ2"
      },
      "source": [
        "from matplotlib import pyplot as plt\n",
        "%matplotlib inline"
      ],
      "execution_count": 35,
      "outputs": []
    },
    {
      "cell_type": "code",
      "metadata": {
        "colab": {
          "base_uri": "https://localhost:8080/",
          "height": 1000
        },
        "id": "TGPLKJSRXbJ3",
        "outputId": "873f71f1-6999-416c-d747-bc6f11497a69"
      },
      "source": [
        "fig, axs = plt.subplots(1, 3, figsize=(20,20))\n",
        "\n",
        "for i in range(3):\n",
        "    axs[i].imshow(masks[i][:50])\n",
        "    axs[i].set_title(f\"mask {i}\")\n"
      ],
      "execution_count": 36,
      "outputs": [
        {
          "output_type": "display_data",
          "data": {
            "image/png": "[encoded data removed]",
            "text/plain": [
              "<Figure size 1440x1440 with 3 Axes>"
            ]
          },
          "metadata": {
            "needs_background": "light"
          }
        }
      ]
    }
  ]
}