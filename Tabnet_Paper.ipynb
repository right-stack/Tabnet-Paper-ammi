{
  "nbformat": 4,
  "nbformat_minor": 0,
  "metadata": {
    "colab": {
      "name": "Tabnet-Paper.ipynb",
      "provenance": [],
      "authorship_tag": "ABX9TyPBzilnYcsBE8hvTB5r+KBr",
      "include_colab_link": true
    },
    "kernelspec": {
      "name": "python3",
      "display_name": "Python 3"
    },
    "language_info": {
      "name": "python"
    }
  },
  "cells": [
    {
      "cell_type": "markdown",
      "metadata": {
        "id": "view-in-github",
        "colab_type": "text"
      },
      "source": [
        "<a href=\"https://colab.research.google.com/github/right-stack/Tabnet-Paper-ammi/blob/main/Tabnet_Paper.ipynb\" target=\"_parent\"><img src=\"https://colab.research.google.com/assets/colab-badge.svg\" alt=\"Open In Colab\"/></a>"
      ]
    },
    {
      "cell_type": "code",
      "metadata": {
        "id": "nIC5wuRREQhF"
      },
      "source": [
        "import numpy as np\n",
        "import torch\n",
        "import pandas as pd\n",
        "import matplotlib as plt\n",
        "from torch.nn import Linear, ReLU, BatchNorm1d\n",
        "import torch.nn.functional.glu as GLU"
      ],
      "execution_count": 1,
      "outputs": []
    },
    {
      "cell_type": "code",
      "metadata": {
        "id": "IcqNlma6FDBX"
      },
      "source": [
        "dfs = pd.read_csv(\"adult.data\", )\n",
        "#dfs.iloc[0][\"\"]"
      ],
      "execution_count": 5,
      "outputs": []
    },
    {
      "cell_type": "code",
      "metadata": {
        "id": "eEfWlM_HFvcm"
      },
      "source": [
        "cols = ['age', 'workclass', 'fnlwgt', 'education', 'education-num', 'marital-status', 'occupation', 'relationship', 'race', 'sex', 'capital-gain', 'capital-loss', 'hours-per-week', 'native-country', 'earn']\n",
        "dfs.columns = cols"
      ],
      "execution_count": 6,
      "outputs": []
    },
    {
      "cell_type": "code",
      "metadata": {
        "colab": {
          "base_uri": "https://localhost:8080/",
          "height": 202
        },
        "id": "NuHTMWFQPDOn",
        "outputId": "41c1fb12-4bcc-4eab-b970-51380918b93d"
      },
      "source": [
        "dfs.head()"
      ],
      "execution_count": 7,
      "outputs": [
        {
          "output_type": "execute_result",
          "data": {
            "text/html": [
              "<div>\n",
              "<style scoped>\n",
              "    .dataframe tbody tr th:only-of-type {\n",
              "        vertical-align: middle;\n",
              "    }\n",
              "\n",
              "    .dataframe tbody tr th {\n",
              "        vertical-align: top;\n",
              "    }\n",
              "\n",
              "    .dataframe thead th {\n",
              "        text-align: right;\n",
              "    }\n",
              "</style>\n",
              "<table border=\"1\" class=\"dataframe\">\n",
              "  <thead>\n",
              "    <tr style=\"text-align: right;\">\n",
              "      <th></th>\n",
              "      <th>age</th>\n",
              "      <th>workclass</th>\n",
              "      <th>fnlwgt</th>\n",
              "      <th>education</th>\n",
              "      <th>education-num</th>\n",
              "      <th>marital-status</th>\n",
              "      <th>occupation</th>\n",
              "      <th>relationship</th>\n",
              "      <th>race</th>\n",
              "      <th>sex</th>\n",
              "      <th>capital-gain</th>\n",
              "      <th>capital-loss</th>\n",
              "      <th>hours-per-week</th>\n",
              "      <th>native-country</th>\n",
              "      <th>earn</th>\n",
              "    </tr>\n",
              "  </thead>\n",
              "  <tbody>\n",
              "    <tr>\n",
              "      <th>0</th>\n",
              "      <td>50</td>\n",
              "      <td>Self-emp-not-inc</td>\n",
              "      <td>83311</td>\n",
              "      <td>Bachelors</td>\n",
              "      <td>13</td>\n",
              "      <td>Married-civ-spouse</td>\n",
              "      <td>Exec-managerial</td>\n",
              "      <td>Husband</td>\n",
              "      <td>White</td>\n",
              "      <td>Male</td>\n",
              "      <td>0</td>\n",
              "      <td>0</td>\n",
              "      <td>13</td>\n",
              "      <td>United-States</td>\n",
              "      <td>&lt;=50K</td>\n",
              "    </tr>\n",
              "    <tr>\n",
              "      <th>1</th>\n",
              "      <td>38</td>\n",
              "      <td>Private</td>\n",
              "      <td>215646</td>\n",
              "      <td>HS-grad</td>\n",
              "      <td>9</td>\n",
              "      <td>Divorced</td>\n",
              "      <td>Handlers-cleaners</td>\n",
              "      <td>Not-in-family</td>\n",
              "      <td>White</td>\n",
              "      <td>Male</td>\n",
              "      <td>0</td>\n",
              "      <td>0</td>\n",
              "      <td>40</td>\n",
              "      <td>United-States</td>\n",
              "      <td>&lt;=50K</td>\n",
              "    </tr>\n",
              "    <tr>\n",
              "      <th>2</th>\n",
              "      <td>53</td>\n",
              "      <td>Private</td>\n",
              "      <td>234721</td>\n",
              "      <td>11th</td>\n",
              "      <td>7</td>\n",
              "      <td>Married-civ-spouse</td>\n",
              "      <td>Handlers-cleaners</td>\n",
              "      <td>Husband</td>\n",
              "      <td>Black</td>\n",
              "      <td>Male</td>\n",
              "      <td>0</td>\n",
              "      <td>0</td>\n",
              "      <td>40</td>\n",
              "      <td>United-States</td>\n",
              "      <td>&lt;=50K</td>\n",
              "    </tr>\n",
              "    <tr>\n",
              "      <th>3</th>\n",
              "      <td>28</td>\n",
              "      <td>Private</td>\n",
              "      <td>338409</td>\n",
              "      <td>Bachelors</td>\n",
              "      <td>13</td>\n",
              "      <td>Married-civ-spouse</td>\n",
              "      <td>Prof-specialty</td>\n",
              "      <td>Wife</td>\n",
              "      <td>Black</td>\n",
              "      <td>Female</td>\n",
              "      <td>0</td>\n",
              "      <td>0</td>\n",
              "      <td>40</td>\n",
              "      <td>Cuba</td>\n",
              "      <td>&lt;=50K</td>\n",
              "    </tr>\n",
              "    <tr>\n",
              "      <th>4</th>\n",
              "      <td>37</td>\n",
              "      <td>Private</td>\n",
              "      <td>284582</td>\n",
              "      <td>Masters</td>\n",
              "      <td>14</td>\n",
              "      <td>Married-civ-spouse</td>\n",
              "      <td>Exec-managerial</td>\n",
              "      <td>Wife</td>\n",
              "      <td>White</td>\n",
              "      <td>Female</td>\n",
              "      <td>0</td>\n",
              "      <td>0</td>\n",
              "      <td>40</td>\n",
              "      <td>United-States</td>\n",
              "      <td>&lt;=50K</td>\n",
              "    </tr>\n",
              "  </tbody>\n",
              "</table>\n",
              "</div>"
            ],
            "text/plain": [
              "   age          workclass  fnlwgt  ... hours-per-week  native-country    earn\n",
              "0   50   Self-emp-not-inc   83311  ...             13   United-States   <=50K\n",
              "1   38            Private  215646  ...             40   United-States   <=50K\n",
              "2   53            Private  234721  ...             40   United-States   <=50K\n",
              "3   28            Private  338409  ...             40            Cuba   <=50K\n",
              "4   37            Private  284582  ...             40   United-States   <=50K\n",
              "\n",
              "[5 rows x 15 columns]"
            ]
          },
          "metadata": {
            "tags": []
          },
          "execution_count": 7
        }
      ]
    },
    {
      "cell_type": "code",
      "metadata": {
        "colab": {
          "base_uri": "https://localhost:8080/",
          "height": 294
        },
        "id": "YJIcRlGyclOU",
        "outputId": "493ff203-327b-4f15-a50f-7d2b4a3b18ba"
      },
      "source": [
        "dfs.describe()"
      ],
      "execution_count": 16,
      "outputs": [
        {
          "output_type": "execute_result",
          "data": {
            "text/html": [
              "<div>\n",
              "<style scoped>\n",
              "    .dataframe tbody tr th:only-of-type {\n",
              "        vertical-align: middle;\n",
              "    }\n",
              "\n",
              "    .dataframe tbody tr th {\n",
              "        vertical-align: top;\n",
              "    }\n",
              "\n",
              "    .dataframe thead th {\n",
              "        text-align: right;\n",
              "    }\n",
              "</style>\n",
              "<table border=\"1\" class=\"dataframe\">\n",
              "  <thead>\n",
              "    <tr style=\"text-align: right;\">\n",
              "      <th></th>\n",
              "      <th>age</th>\n",
              "      <th>fnlwgt</th>\n",
              "      <th>education-num</th>\n",
              "      <th>capital-gain</th>\n",
              "      <th>capital-loss</th>\n",
              "      <th>hours-per-week</th>\n",
              "    </tr>\n",
              "  </thead>\n",
              "  <tbody>\n",
              "    <tr>\n",
              "      <th>count</th>\n",
              "      <td>32560.000000</td>\n",
              "      <td>3.256000e+04</td>\n",
              "      <td>32560.000000</td>\n",
              "      <td>32560.000000</td>\n",
              "      <td>32560.000000</td>\n",
              "      <td>32560.000000</td>\n",
              "    </tr>\n",
              "    <tr>\n",
              "      <th>mean</th>\n",
              "      <td>38.581634</td>\n",
              "      <td>1.897818e+05</td>\n",
              "      <td>10.080590</td>\n",
              "      <td>1077.615172</td>\n",
              "      <td>87.306511</td>\n",
              "      <td>40.437469</td>\n",
              "    </tr>\n",
              "    <tr>\n",
              "      <th>std</th>\n",
              "      <td>13.640642</td>\n",
              "      <td>1.055498e+05</td>\n",
              "      <td>2.572709</td>\n",
              "      <td>7385.402999</td>\n",
              "      <td>402.966116</td>\n",
              "      <td>12.347618</td>\n",
              "    </tr>\n",
              "    <tr>\n",
              "      <th>min</th>\n",
              "      <td>17.000000</td>\n",
              "      <td>1.228500e+04</td>\n",
              "      <td>1.000000</td>\n",
              "      <td>0.000000</td>\n",
              "      <td>0.000000</td>\n",
              "      <td>1.000000</td>\n",
              "    </tr>\n",
              "    <tr>\n",
              "      <th>25%</th>\n",
              "      <td>28.000000</td>\n",
              "      <td>1.178315e+05</td>\n",
              "      <td>9.000000</td>\n",
              "      <td>0.000000</td>\n",
              "      <td>0.000000</td>\n",
              "      <td>40.000000</td>\n",
              "    </tr>\n",
              "    <tr>\n",
              "      <th>50%</th>\n",
              "      <td>37.000000</td>\n",
              "      <td>1.783630e+05</td>\n",
              "      <td>10.000000</td>\n",
              "      <td>0.000000</td>\n",
              "      <td>0.000000</td>\n",
              "      <td>40.000000</td>\n",
              "    </tr>\n",
              "    <tr>\n",
              "      <th>75%</th>\n",
              "      <td>48.000000</td>\n",
              "      <td>2.370545e+05</td>\n",
              "      <td>12.000000</td>\n",
              "      <td>0.000000</td>\n",
              "      <td>0.000000</td>\n",
              "      <td>45.000000</td>\n",
              "    </tr>\n",
              "    <tr>\n",
              "      <th>max</th>\n",
              "      <td>90.000000</td>\n",
              "      <td>1.484705e+06</td>\n",
              "      <td>16.000000</td>\n",
              "      <td>99999.000000</td>\n",
              "      <td>4356.000000</td>\n",
              "      <td>99.000000</td>\n",
              "    </tr>\n",
              "  </tbody>\n",
              "</table>\n",
              "</div>"
            ],
            "text/plain": [
              "                age        fnlwgt  ...  capital-loss  hours-per-week\n",
              "count  32560.000000  3.256000e+04  ...  32560.000000    32560.000000\n",
              "mean      38.581634  1.897818e+05  ...     87.306511       40.437469\n",
              "std       13.640642  1.055498e+05  ...    402.966116       12.347618\n",
              "min       17.000000  1.228500e+04  ...      0.000000        1.000000\n",
              "25%       28.000000  1.178315e+05  ...      0.000000       40.000000\n",
              "50%       37.000000  1.783630e+05  ...      0.000000       40.000000\n",
              "75%       48.000000  2.370545e+05  ...      0.000000       45.000000\n",
              "max       90.000000  1.484705e+06  ...   4356.000000       99.000000\n",
              "\n",
              "[8 rows x 6 columns]"
            ]
          },
          "metadata": {
            "tags": []
          },
          "execution_count": 16
        }
      ]
    },
    {
      "cell_type": "code",
      "metadata": {
        "colab": {
          "base_uri": "https://localhost:8080/"
        },
        "id": "5gbJwyCCdMow",
        "outputId": "e3697b7d-3a0c-4e28-ac52-de4fd8f0c92b"
      },
      "source": [
        "print(\"Workclasses: \", dfs['workclass'].unique())\n",
        "print(\"Fnlwgt: \", dfs['fnlwgt'].unique())\n",
        "print(\"Education: \", dfs['education'].unique())\n",
        "print(\"Marital Status: \", dfs['marital-status'].unique())\n",
        "print(\"Occupation: \", dfs['occupation'].unique())\n",
        "print(\"Relationship: \", dfs['relationship'].unique())\n",
        "print(\"Race: \", dfs['race'].unique())\n",
        "print(\"Sex: \", dfs['sex'].unique())\n",
        "print(\"Native Country: \", dfs['native-country'].unique())\n",
        "\n",
        "print(\"Earn: \", dfs['earn'].unique())"
      ],
      "execution_count": 10,
      "outputs": [
        {
          "output_type": "stream",
          "text": [
            "Workclasses:  [' Self-emp-not-inc' ' Private' ' State-gov' ' Federal-gov' ' Local-gov'\n",
            " ' ?' ' Self-emp-inc' ' Without-pay' ' Never-worked']\n",
            "Fnlwgt:  [ 83311 215646 234721 ...  34066  84661 257302]\n",
            "Education:  [' Bachelors' ' HS-grad' ' 11th' ' Masters' ' 9th' ' Some-college'\n",
            " ' Assoc-acdm' ' Assoc-voc' ' 7th-8th' ' Doctorate' ' Prof-school'\n",
            " ' 5th-6th' ' 10th' ' 1st-4th' ' Preschool' ' 12th']\n",
            "Marital Status:  [' Married-civ-spouse' ' Divorced' ' Married-spouse-absent'\n",
            " ' Never-married' ' Separated' ' Married-AF-spouse' ' Widowed']\n",
            "Occupation:  [' Exec-managerial' ' Handlers-cleaners' ' Prof-specialty'\n",
            " ' Other-service' ' Adm-clerical' ' Sales' ' Craft-repair'\n",
            " ' Transport-moving' ' Farming-fishing' ' Machine-op-inspct'\n",
            " ' Tech-support' ' ?' ' Protective-serv' ' Armed-Forces'\n",
            " ' Priv-house-serv']\n",
            "Relationship:  [' Husband' ' Not-in-family' ' Wife' ' Own-child' ' Unmarried'\n",
            " ' Other-relative']\n",
            "Race:  [' White' ' Black' ' Asian-Pac-Islander' ' Amer-Indian-Eskimo' ' Other']\n",
            "Sex:  [' Male' ' Female']\n",
            "Native Country:  [' United-States' ' Cuba' ' Jamaica' ' India' ' ?' ' Mexico' ' South'\n",
            " ' Puerto-Rico' ' Honduras' ' England' ' Canada' ' Germany' ' Iran'\n",
            " ' Philippines' ' Italy' ' Poland' ' Columbia' ' Cambodia' ' Thailand'\n",
            " ' Ecuador' ' Laos' ' Taiwan' ' Haiti' ' Portugal' ' Dominican-Republic'\n",
            " ' El-Salvador' ' France' ' Guatemala' ' China' ' Japan' ' Yugoslavia'\n",
            " ' Peru' ' Outlying-US(Guam-USVI-etc)' ' Scotland' ' Trinadad&Tobago'\n",
            " ' Greece' ' Nicaragua' ' Vietnam' ' Hong' ' Ireland' ' Hungary'\n",
            " ' Holand-Netherlands']\n",
            "Earn:  [' <=50K' ' >50K']\n"
          ],
          "name": "stdout"
        }
      ]
    },
    {
      "cell_type": "code",
      "metadata": {
        "colab": {
          "base_uri": "https://localhost:8080/"
        },
        "id": "mWwJ3r3HfaTe",
        "outputId": "3d447a0b-4e5e-4d1e-c50c-e3f412f91cc5"
      },
      "source": [
        "dfs.shape"
      ],
      "execution_count": 21,
      "outputs": [
        {
          "output_type": "execute_result",
          "data": {
            "text/plain": [
              "(32560, 15)"
            ]
          },
          "metadata": {
            "tags": []
          },
          "execution_count": 21
        }
      ]
    },
    {
      "cell_type": "code",
      "metadata": {
        "colab": {
          "base_uri": "https://localhost:8080/"
        },
        "id": "aoL--0e2rQOu",
        "outputId": "58b1ac15-587e-487b-b1fb-49c728a9dcee"
      },
      "source": [
        "len(dfs['workclass'].unique())"
      ],
      "execution_count": 22,
      "outputs": [
        {
          "output_type": "execute_result",
          "data": {
            "text/plain": [
              "9"
            ]
          },
          "metadata": {
            "tags": []
          },
          "execution_count": 22
        }
      ]
    },
    {
      "cell_type": "code",
      "metadata": {
        "id": "fEvWBfQCP0Xz"
      },
      "source": [
        "X = dfs[['age', 'workclass', 'fnlwgt', 'education', 'education-num', 'marital-status', 'occupation', 'relationship', 'race', 'sex', 'capital-gain', 'capital-loss', 'hours-per-week', 'native-country']]\n",
        "\n",
        "y = dfs['earn']"
      ],
      "execution_count": 37,
      "outputs": []
    },
    {
      "cell_type": "code",
      "metadata": {
        "colab": {
          "base_uri": "https://localhost:8080/",
          "height": 202
        },
        "id": "NN8iv6KwRDwd",
        "outputId": "7c9a5621-bdc0-4fbc-d037-9102170ec9d3"
      },
      "source": [
        "X.head()"
      ],
      "execution_count": 38,
      "outputs": [
        {
          "output_type": "execute_result",
          "data": {
            "text/html": [
              "<div>\n",
              "<style scoped>\n",
              "    .dataframe tbody tr th:only-of-type {\n",
              "        vertical-align: middle;\n",
              "    }\n",
              "\n",
              "    .dataframe tbody tr th {\n",
              "        vertical-align: top;\n",
              "    }\n",
              "\n",
              "    .dataframe thead th {\n",
              "        text-align: right;\n",
              "    }\n",
              "</style>\n",
              "<table border=\"1\" class=\"dataframe\">\n",
              "  <thead>\n",
              "    <tr style=\"text-align: right;\">\n",
              "      <th></th>\n",
              "      <th>age</th>\n",
              "      <th>workclass</th>\n",
              "      <th>fnlwgt</th>\n",
              "      <th>education</th>\n",
              "      <th>education-num</th>\n",
              "      <th>marital-status</th>\n",
              "      <th>occupation</th>\n",
              "      <th>relationship</th>\n",
              "      <th>race</th>\n",
              "      <th>sex</th>\n",
              "      <th>capital-gain</th>\n",
              "      <th>capital-loss</th>\n",
              "      <th>hours-per-week</th>\n",
              "      <th>native-country</th>\n",
              "    </tr>\n",
              "  </thead>\n",
              "  <tbody>\n",
              "    <tr>\n",
              "      <th>0</th>\n",
              "      <td>50</td>\n",
              "      <td>Self-emp-not-inc</td>\n",
              "      <td>83311</td>\n",
              "      <td>Bachelors</td>\n",
              "      <td>13</td>\n",
              "      <td>Married-civ-spouse</td>\n",
              "      <td>Exec-managerial</td>\n",
              "      <td>Husband</td>\n",
              "      <td>White</td>\n",
              "      <td>Male</td>\n",
              "      <td>0</td>\n",
              "      <td>0</td>\n",
              "      <td>13</td>\n",
              "      <td>United-States</td>\n",
              "    </tr>\n",
              "    <tr>\n",
              "      <th>1</th>\n",
              "      <td>38</td>\n",
              "      <td>Private</td>\n",
              "      <td>215646</td>\n",
              "      <td>HS-grad</td>\n",
              "      <td>9</td>\n",
              "      <td>Divorced</td>\n",
              "      <td>Handlers-cleaners</td>\n",
              "      <td>Not-in-family</td>\n",
              "      <td>White</td>\n",
              "      <td>Male</td>\n",
              "      <td>0</td>\n",
              "      <td>0</td>\n",
              "      <td>40</td>\n",
              "      <td>United-States</td>\n",
              "    </tr>\n",
              "    <tr>\n",
              "      <th>2</th>\n",
              "      <td>53</td>\n",
              "      <td>Private</td>\n",
              "      <td>234721</td>\n",
              "      <td>11th</td>\n",
              "      <td>7</td>\n",
              "      <td>Married-civ-spouse</td>\n",
              "      <td>Handlers-cleaners</td>\n",
              "      <td>Husband</td>\n",
              "      <td>Black</td>\n",
              "      <td>Male</td>\n",
              "      <td>0</td>\n",
              "      <td>0</td>\n",
              "      <td>40</td>\n",
              "      <td>United-States</td>\n",
              "    </tr>\n",
              "    <tr>\n",
              "      <th>3</th>\n",
              "      <td>28</td>\n",
              "      <td>Private</td>\n",
              "      <td>338409</td>\n",
              "      <td>Bachelors</td>\n",
              "      <td>13</td>\n",
              "      <td>Married-civ-spouse</td>\n",
              "      <td>Prof-specialty</td>\n",
              "      <td>Wife</td>\n",
              "      <td>Black</td>\n",
              "      <td>Female</td>\n",
              "      <td>0</td>\n",
              "      <td>0</td>\n",
              "      <td>40</td>\n",
              "      <td>Cuba</td>\n",
              "    </tr>\n",
              "    <tr>\n",
              "      <th>4</th>\n",
              "      <td>37</td>\n",
              "      <td>Private</td>\n",
              "      <td>284582</td>\n",
              "      <td>Masters</td>\n",
              "      <td>14</td>\n",
              "      <td>Married-civ-spouse</td>\n",
              "      <td>Exec-managerial</td>\n",
              "      <td>Wife</td>\n",
              "      <td>White</td>\n",
              "      <td>Female</td>\n",
              "      <td>0</td>\n",
              "      <td>0</td>\n",
              "      <td>40</td>\n",
              "      <td>United-States</td>\n",
              "    </tr>\n",
              "  </tbody>\n",
              "</table>\n",
              "</div>"
            ],
            "text/plain": [
              "   age          workclass  fnlwgt  ... capital-loss  hours-per-week  native-country\n",
              "0   50   Self-emp-not-inc   83311  ...            0              13   United-States\n",
              "1   38            Private  215646  ...            0              40   United-States\n",
              "2   53            Private  234721  ...            0              40   United-States\n",
              "3   28            Private  338409  ...            0              40            Cuba\n",
              "4   37            Private  284582  ...            0              40   United-States\n",
              "\n",
              "[5 rows x 14 columns]"
            ]
          },
          "metadata": {
            "tags": []
          },
          "execution_count": 38
        }
      ]
    },
    {
      "cell_type": "code",
      "metadata": {
        "colab": {
          "base_uri": "https://localhost:8080/"
        },
        "id": "GrQPsRuEP1CF",
        "outputId": "fcc3ca45-80bc-4ab6-e756-eb9f6a542187"
      },
      "source": [
        "y.head()"
      ],
      "execution_count": 39,
      "outputs": [
        {
          "output_type": "execute_result",
          "data": {
            "text/plain": [
              "0     <=50K\n",
              "1     <=50K\n",
              "2     <=50K\n",
              "3     <=50K\n",
              "4     <=50K\n",
              "Name: earn, dtype: object"
            ]
          },
          "metadata": {
            "tags": []
          },
          "execution_count": 39
        }
      ]
    },
    {
      "cell_type": "code",
      "metadata": {
        "id": "FYTmFoZWfkgZ"
      },
      "source": [
        "## LABEL ENCODING\n",
        "# convert categorical features to variables 0, 1, 2 etc. \n",
        "\n",
        "from sklearn import preprocessing\n",
        "# Reset target\n",
        "le_earn = preprocessing.LabelEncoder()\n",
        "le_earn.fit([' <=50K',' >50K'])   # reset earn to 0 and 1\n",
        "y[:,0] = le_earn.transform(y[:,0]) \n",
        "\n",
        "\n",
        "# Transform work\n",
        "le_work = preprocessing.LabelEncoder()\n",
        "le_work.fit([' Self-emp-not-inc', ' Private', ' State-gov',' Federal-gov', ' Local-gov', ' ?', ' Self-emp-inc', ' Without-pay', ' Never-worked'])\n",
        "X[:,1] = le_work.transform(X[:,1])\n",
        "\n",
        "# Transform Education\n",
        "le_edu = preprocessing.LabelEncoder()\n",
        "le_edu.fit([' Bachelors', ' HS-grad',' 11th', ' Masters', ' 9th', ' Some-college', ' Assoc-acdm',' Assoc-voc',' 7th-8th',' Doctorate',' Prof-school', ' 5th-6th',' 10th',' 1st-4th',' Preschool',' 12th'])\n",
        "X[:,3] = le_work.transform(X[:,3])\n",
        "\n"
      ],
      "execution_count": null,
      "outputs": []
    },
    {
      "cell_type": "code",
      "metadata": {
        "id": "4cm1Dp4kcAdO"
      },
      "source": [
        "# Feature Transformer class\n",
        "\n",
        "class FeatureTransformer(nn.Module):\n",
        "    def __init__(self, input_dim, output_dim):\n",
        "      super(self).__init__()\n",
        "\n",
        "      # A class implementing the feature transformer architecture as seen in the paper page 4 (https://arxiv.org/pdf/1908.07442.pdf)\n",
        "      self.model = torch.nn.Sequential(*[\n",
        "          # First fully connected layer\n",
        "          self.fc = nn.Linear(self, input_dim, output_dim)\n",
        "          # BatchNorm Layer\n",
        "          self.bn = nn.BatchNorm2d(output_dim)  # BN Layer With Learnable Parameters\n",
        "          # Gated linear unit (GLU) Layer\n",
        "          nn.GLU()\n",
        "      ])\n",
        "\n",
        "    def forward(self, input):\n",
        "      output = self.model(input)\n",
        "      return output\n",
        "    \n",
        "    # Shared Accross Decision step\n",
        "    output = self.forward(inputs)\n",
        "    output1 = output\n",
        "    output_part_2 = self.forward(output)\n",
        "    output2 = output1 + output_part_2\n",
        "    output2 = output2 / np.sqrt(0.5)\n",
        "\n",
        "    # Decision step dependent\n",
        "    output_part_3 = self.forward(output2)\n",
        "    output3 = output2 + output_part_3\n",
        "    output3 = output3 / np.sqrt(0.5)\n",
        "\n",
        "    output_part_4 = self.forward(output3)\n",
        "    output4 = output3 + output_part_4\n",
        "    output4 = output4 / np.sqrt(0.5)\n",
        "\n",
        "\n",
        "ft = FeatureTransformer()\n",
        "#print(ft)"
      ],
      "execution_count": null,
      "outputs": []
    },
    {
      "cell_type": "code",
      "metadata": {
        "id": "spA_xfZCb_9F"
      },
      "source": [
        "# Attentive Transformer\n",
        "\n",
        "class AttentiveTransformer(nn.Module):\n",
        "    def __init__(self, self, input_dim, output_dim):\n",
        "      super(self).__init__()\n",
        "\n",
        "      # A class implementing the feature transformer architecture as seen in the paper page 4 (https://arxiv.org/pdf/1908.07442.pdf)\n",
        "      \n",
        "      # First fully connected layer\n",
        "      self.fc = nn.Linear(input_dim, output_dim)\n",
        "      # BatchNorm Layer\n",
        "      self.bn = nn.BatchNorm2d(output_dim)  # BN Layer With Learnable Parameters  \n",
        "\n",
        "    def sparseMax(inputs):\n",
        "      pass  \n",
        "\n",
        "    def forward(self, input, prior):\n",
        "      output = self.fc(input)\n",
        "      output = self.bn(output)\n",
        "      output = torch.mul(output, prior)\n",
        "      output = sparseMax(output)\n",
        "\n",
        "      prior = output\n",
        "\n",
        "      return output, prior\n",
        "\n",
        "at = AttentiveTransformer()\n",
        "#print(at)"
      ],
      "execution_count": null,
      "outputs": []
    },
    {
      "cell_type": "code",
      "metadata": {
        "id": "yjQM7F4xetDd"
      },
      "source": [
        ""
      ],
      "execution_count": null,
      "outputs": []
    },
    {
      "cell_type": "code",
      "metadata": {
        "id": "d6Y38-zNetv_"
      },
      "source": [
        ""
      ],
      "execution_count": null,
      "outputs": []
    },
    {
      "cell_type": "code",
      "metadata": {
        "id": "AEylaBcNcAQ0"
      },
      "source": [
        "Class TabnetEncoder(torch.nn.Module):\n",
        "\n",
        "\n",
        "\n",
        "## Feature transformer method\n",
        "self.feature_transformer():\n",
        "\n",
        "\n",
        "## Attentive transformer method\n",
        "self.attentive_transformer():\n",
        "\n",
        "\n",
        "## Feature Masking method\n",
        "self.feature_masking():\n"
      ],
      "execution_count": null,
      "outputs": []
    },
    {
      "cell_type": "code",
      "metadata": {
        "id": "99voskM8cAIO"
      },
      "source": [
        "Class TabNetDecoder(torch.nn.Module):\n",
        "\n",
        "\n",
        "## Feature transformer method\n",
        "self.feature_transformer():\n",
        "\n"
      ],
      "execution_count": null,
      "outputs": []
    }
  ]
}